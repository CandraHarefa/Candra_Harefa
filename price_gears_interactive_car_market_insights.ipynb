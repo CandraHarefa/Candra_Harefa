{
  "cells": [
    {
      "cell_type": "markdown",
      "metadata": {
        "id": "view-in-github",
        "colab_type": "text"
      },
      "source": [
        "<a href=\"https://colab.research.google.com/github/CandraHarefa/Candra_Harefa/blob/main/price_gears_interactive_car_market_insights.ipynb\" target=\"_parent\"><img src=\"https://colab.research.google.com/assets/colab-badge.svg\" alt=\"Open In Colab\"/></a>"
      ]
    },
    {
      "cell_type": "code",
      "execution_count": 1,
      "id": "ada72e28",
      "metadata": {
        "_cell_guid": "b1076dfc-b9ad-4769-8c92-a6c4dae69d19",
        "_uuid": "8f2839f25d086af736a60e9eeb907d3b93b6e0e5",
        "execution": {
          "iopub.execute_input": "2024-10-07T13:32:18.846388Z",
          "iopub.status.busy": "2024-10-07T13:32:18.845996Z",
          "iopub.status.idle": "2024-10-07T13:32:21.994699Z",
          "shell.execute_reply": "2024-10-07T13:32:21.993880Z"
        },
        "papermill": {
          "duration": 3.158142,
          "end_time": "2024-10-07T13:32:21.997068",
          "exception": false,
          "start_time": "2024-10-07T13:32:18.838926",
          "status": "completed"
        },
        "tags": [],
        "id": "ada72e28"
      },
      "outputs": [],
      "source": [
        "import pandas as pd\n",
        "import numpy as np\n",
        "import seaborn as sns\n",
        "import matplotlib.pyplot as plt\n",
        "import plotly.express as px\n",
        "import plotly.graph_objs as go\n",
        "import warnings\n",
        "warnings.filterwarnings('ignore')\n",
        "from sklearn.model_selection import train_test_split\n",
        "from sklearn.preprocessing import OneHotEncoder\n",
        "from sklearn.ensemble import RandomForestRegressor\n",
        "from sklearn.linear_model import LinearRegression\n",
        "from sklearn.tree import DecisionTreeRegressor\n",
        "from sklearn.metrics import mean_squared_error\n",
        "from sklearn.preprocessing import PolynomialFeatures\n",
        "\n",
        "file_path = '/content/car_price_prediction_.csv'\n",
        "data = pd.read_csv(file_path)"
      ]
    },
    {
      "cell_type": "code",
      "execution_count": 2,
      "id": "7d65713f",
      "metadata": {
        "execution": {
          "iopub.execute_input": "2024-10-07T13:32:22.008238Z",
          "iopub.status.busy": "2024-10-07T13:32:22.007865Z",
          "iopub.status.idle": "2024-10-07T13:32:22.028908Z",
          "shell.execute_reply": "2024-10-07T13:32:22.027868Z"
        },
        "papermill": {
          "duration": 0.028777,
          "end_time": "2024-10-07T13:32:22.030976",
          "exception": false,
          "start_time": "2024-10-07T13:32:22.002199",
          "status": "completed"
        },
        "tags": [],
        "colab": {
          "base_uri": "https://localhost:8080/"
        },
        "id": "7d65713f",
        "outputId": "7dce26db-9ffe-40a3-aca0-50667e6c1eca"
      },
      "outputs": [
        {
          "output_type": "stream",
          "name": "stdout",
          "text": [
            "Average price of cars by brand:\n",
            " Brand\n",
            "BMW         54157.114385\n",
            "Tesla       53475.547471\n",
            "Mercedes    53191.090085\n",
            "Toyota      52078.728235\n",
            "Honda       52050.283949\n",
            "Audi        51953.424810\n",
            "Ford        51593.254813\n",
            "Name: Price, dtype: float64\n"
          ]
        }
      ],
      "source": [
        "brand_price = data.groupby('Brand')['Price'].mean().sort_values(ascending=False)\n",
        "print(\"Average price of cars by brand:\\n\", brand_price)"
      ]
    },
    {
      "cell_type": "code",
      "execution_count": null,
      "id": "02faa177",
      "metadata": {
        "execution": {
          "iopub.execute_input": "2024-10-07T13:32:22.041836Z",
          "iopub.status.busy": "2024-10-07T13:32:22.041475Z",
          "iopub.status.idle": "2024-10-07T13:32:22.996635Z",
          "shell.execute_reply": "2024-10-07T13:32:22.995652Z"
        },
        "papermill": {
          "duration": 0.963014,
          "end_time": "2024-10-07T13:32:22.998705",
          "exception": false,
          "start_time": "2024-10-07T13:32:22.035691",
          "status": "completed"
        },
        "tags": [],
        "id": "02faa177"
      },
      "outputs": [],
      "source": [
        "plt.figure(figsize=(14, 8))\n",
        "sns.barplot(x=brand_price.index, y=brand_price.values, palette='coolwarm')\n",
        "plt.title('Average Car Price by Brand')\n",
        "plt.xticks(rotation=0)\n",
        "plt.ylabel('Average Price')\n",
        "plt.show()\n",
        "\n",
        "\n",
        "plt.figure(figsize=(14, 8))\n",
        "sns.boxplot(x='Model', y='Price', data=data, palette='coolwarm')\n",
        "plt.title('Distribution of Car Prices by Model')\n",
        "plt.xticks(rotation=60)\n",
        "plt.show()"
      ]
    },
    {
      "cell_type": "markdown",
      "id": "8e58a140",
      "metadata": {
        "papermill": {
          "duration": 0.005948,
          "end_time": "2024-10-07T13:32:23.011470",
          "exception": false,
          "start_time": "2024-10-07T13:32:23.005522",
          "status": "completed"
        },
        "tags": [],
        "id": "8e58a140"
      },
      "source": [
        "# **Cars from premium brands such as Tesla and BMW have a higher average price, supporting the hypothesis that luxury brands are indeed significantly more expensive.**"
      ]
    },
    {
      "cell_type": "code",
      "execution_count": null,
      "id": "eb8d8ac4",
      "metadata": {
        "execution": {
          "iopub.execute_input": "2024-10-07T13:32:23.025343Z",
          "iopub.status.busy": "2024-10-07T13:32:23.024642Z",
          "iopub.status.idle": "2024-10-07T13:32:25.747814Z",
          "shell.execute_reply": "2024-10-07T13:32:25.746817Z"
        },
        "papermill": {
          "duration": 2.734975,
          "end_time": "2024-10-07T13:32:25.752483",
          "exception": false,
          "start_time": "2024-10-07T13:32:23.017508",
          "status": "completed"
        },
        "tags": [],
        "id": "eb8d8ac4"
      },
      "outputs": [],
      "source": [
        "year_price = data.groupby('Year')['Price'].mean().sort_values(ascending=False)\n",
        "plt.figure(figsize=(14, 8))\n",
        "sns.lineplot(x='Year', y='Price', data=data, ci=None, marker='o')\n",
        "plt.title('Car Price Depreciation Over Time (Line Plot)')\n",
        "plt.show()\n",
        "fig = px.scatter(data, x=\"Year\", y=\"Price\", color=\"Brand\", title=\"Price Depreciation by Year and Brand\")\n",
        "fig.show()\n",
        "heatmap_data = pd.pivot_table(data, values='Price', index='Year', columns='Brand', aggfunc='mean')\n",
        "plt.figure(figsize=(14, 8))\n",
        "sns.heatmap(heatmap_data, cmap=\"YlGnBu\", annot=True, fmt=\".1f\", linewidths=0.5)\n",
        "plt.title('Heatmap of Car Prices by Year and Brand')\n",
        "plt.show()"
      ]
    },
    {
      "cell_type": "markdown",
      "id": "182c28af",
      "metadata": {
        "papermill": {
          "duration": 0.014382,
          "end_time": "2024-10-07T13:32:25.787523",
          "exception": false,
          "start_time": "2024-10-07T13:32:25.773141",
          "status": "completed"
        },
        "tags": [],
        "id": "182c28af"
      },
      "source": [
        "1. \tCar prices vary by brand and year. For example, Mercedes and Tesla cars have high average prices in recent years (especially 2021-2023), which can be explained by their premium positioning and new technological solutions.\n",
        "1. \tOlder cars (e.g. 2000-2005) show a significant decrease in value across all brands. This is due to natural depreciation and technology obsolescence.\n",
        "1. \tSharp price changes can be seen in certain years for some brands. For example, BMW has a sharp price increase in 2011, while Honda shows a decline in the same year.\n",
        "1. \tTesla and Mercedes maintain higher prices compared to brands such as Ford and Honda throughout the period, emphasising their premium nature.\n",
        "1. \tFord and Honda show more stable and lower prices, indicating their positioning in the mid-range and budget segment.\n",
        "\n",
        "**These trends demonstrate how year of manufacture and brand affect pricing in the car market.**"
      ]
    },
    {
      "cell_type": "code",
      "execution_count": null,
      "id": "3a9faeca",
      "metadata": {
        "execution": {
          "iopub.execute_input": "2024-10-07T13:32:25.819840Z",
          "iopub.status.busy": "2024-10-07T13:32:25.818911Z",
          "iopub.status.idle": "2024-10-07T13:32:26.353682Z",
          "shell.execute_reply": "2024-10-07T13:32:26.352615Z"
        },
        "papermill": {
          "duration": 0.557487,
          "end_time": "2024-10-07T13:32:26.359542",
          "exception": false,
          "start_time": "2024-10-07T13:32:25.802055",
          "status": "completed"
        },
        "tags": [],
        "id": "3a9faeca"
      },
      "outputs": [],
      "source": [
        "engine_price = data.groupby('Engine Size')['Price'].mean().sort_values(ascending=False)\n",
        "plt.figure(figsize=(14, 8))\n",
        "sns.scatterplot(x='Engine Size', y='Price', hue='Fuel Type', data=data, palette='coolwarm')\n",
        "plt.title('Engine Size vs. Price with Fuel Type')\n",
        "plt.show()"
      ]
    },
    {
      "cell_type": "code",
      "execution_count": null,
      "id": "24f0877a",
      "metadata": {
        "execution": {
          "iopub.execute_input": "2024-10-07T13:32:26.419886Z",
          "iopub.status.busy": "2024-10-07T13:32:26.418741Z",
          "iopub.status.idle": "2024-10-07T13:32:27.235869Z",
          "shell.execute_reply": "2024-10-07T13:32:27.234770Z"
        },
        "papermill": {
          "duration": 0.850501,
          "end_time": "2024-10-07T13:32:27.238274",
          "exception": false,
          "start_time": "2024-10-07T13:32:26.387773",
          "status": "completed"
        },
        "tags": [],
        "id": "24f0877a"
      },
      "outputs": [],
      "source": [
        "fuel_price = data.groupby('Fuel Type')['Price'].mean().sort_values(ascending=False)\n",
        "plt.figure(figsize=(14, 8))\n",
        "sns.boxplot(x='Fuel Type', y='Price', data=data, palette='Set2')\n",
        "plt.title('Impact of Fuel Type on Price (Boxplot)')\n",
        "plt.show()\n",
        "\n",
        "plt.figure(figsize=(14, 8))\n",
        "sns.histplot(data=data, x='Price', hue='Fuel Type', multiple='stack', palette='Set2', kde=True)\n",
        "plt.title('Price Distribution by Fuel Type (Histogram)')\n",
        "plt.show()"
      ]
    },
    {
      "cell_type": "code",
      "execution_count": null,
      "id": "47070282",
      "metadata": {
        "execution": {
          "iopub.execute_input": "2024-10-07T13:32:27.291214Z",
          "iopub.status.busy": "2024-10-07T13:32:27.290794Z",
          "iopub.status.idle": "2024-10-07T13:32:27.613043Z",
          "shell.execute_reply": "2024-10-07T13:32:27.611951Z"
        },
        "papermill": {
          "duration": 0.350195,
          "end_time": "2024-10-07T13:32:27.615195",
          "exception": false,
          "start_time": "2024-10-07T13:32:27.265000",
          "status": "completed"
        },
        "tags": [],
        "id": "47070282"
      },
      "outputs": [],
      "source": [
        "transmission_price = data.groupby('Transmission')['Price'].mean().sort_values(ascending=False)\n",
        "transmission_fuel = pd.crosstab(data['Transmission'], data['Fuel Type'])\n",
        "transmission_fuel.plot(kind='bar', stacked=True, figsize=(14, 8), colormap='Set2')\n",
        "plt.title('Transmission Type and Fuel Type (Stacked Bar Plot)')\n",
        "plt.show()"
      ]
    },
    {
      "cell_type": "code",
      "execution_count": null,
      "id": "e4aa7d43",
      "metadata": {
        "execution": {
          "iopub.execute_input": "2024-10-07T13:32:27.669054Z",
          "iopub.status.busy": "2024-10-07T13:32:27.668641Z",
          "iopub.status.idle": "2024-10-07T13:32:27.721545Z",
          "shell.execute_reply": "2024-10-07T13:32:27.720354Z"
        },
        "papermill": {
          "duration": 0.086703,
          "end_time": "2024-10-07T13:32:27.727699",
          "exception": false,
          "start_time": "2024-10-07T13:32:27.640996",
          "status": "completed"
        },
        "tags": [],
        "id": "e4aa7d43"
      },
      "outputs": [],
      "source": [
        "data_ml = data.drop(columns=['Car ID'])\n",
        "encoder = OneHotEncoder(sparse=False)\n",
        "categorical_columns = ['Brand', 'Fuel Type', 'Transmission', 'Condition', 'Model']\n",
        "encoded_categorical_data = encoder.fit_transform(data_ml[categorical_columns])\n",
        "encoded_df = pd.DataFrame(encoded_categorical_data, columns=encoder.get_feature_names_out(categorical_columns))\n",
        "data_ml = pd.concat([data_ml.drop(columns=categorical_columns), encoded_df], axis=1)\n",
        "X = data_ml.drop(columns=['Price'])\n",
        "y = data_ml['Price']\n",
        "X_train, X_test, y_train, y_test = train_test_split(X, y, test_size=0.3, random_state=42)\n",
        "\n",
        "\n",
        "lr_model = LinearRegression()\n",
        "lr_model.fit(X_train, y_train)\n",
        "\n",
        "y_pred_lr = lr_model.predict(X_test)\n",
        "mse_lr = mean_squared_error(y_test, y_pred_lr)\n",
        "rmse_lr = np.sqrt(mse_lr)\n",
        "print(f'RMSE Linear_Regression: {rmse_lr}')"
      ]
    },
    {
      "cell_type": "code",
      "execution_count": null,
      "id": "f7a12de5",
      "metadata": {
        "execution": {
          "iopub.execute_input": "2024-10-07T13:32:27.858038Z",
          "iopub.status.busy": "2024-10-07T13:32:27.857636Z",
          "iopub.status.idle": "2024-10-07T13:32:27.887310Z",
          "shell.execute_reply": "2024-10-07T13:32:27.886165Z"
        },
        "papermill": {
          "duration": 0.071521,
          "end_time": "2024-10-07T13:32:27.889270",
          "exception": false,
          "start_time": "2024-10-07T13:32:27.817749",
          "status": "completed"
        },
        "tags": [],
        "id": "f7a12de5"
      },
      "outputs": [],
      "source": [
        "dt_model = DecisionTreeRegressor(random_state=42)\n",
        "dt_model.fit(X_train, y_train)\n",
        "\n",
        "y_pred_dt = dt_model.predict(X_test)\n",
        "mse_dt = mean_squared_error(y_test, y_pred_dt)\n",
        "rmse_dt = np.sqrt(mse_dt)\n",
        "print(f'RMSE Decision_Tree_Regressor: {rmse_dt}')"
      ]
    },
    {
      "cell_type": "code",
      "execution_count": null,
      "id": "d9b89358",
      "metadata": {
        "execution": {
          "iopub.execute_input": "2024-10-07T13:32:27.942955Z",
          "iopub.status.busy": "2024-10-07T13:32:27.942557Z",
          "iopub.status.idle": "2024-10-07T13:32:29.159065Z",
          "shell.execute_reply": "2024-10-07T13:32:29.158098Z"
        },
        "papermill": {
          "duration": 1.246277,
          "end_time": "2024-10-07T13:32:29.161313",
          "exception": false,
          "start_time": "2024-10-07T13:32:27.915036",
          "status": "completed"
        },
        "tags": [],
        "id": "d9b89358"
      },
      "outputs": [],
      "source": [
        "rf_model = RandomForestRegressor(n_estimators=100, random_state=42)\n",
        "rf_model.fit(X_train, y_train)\n",
        "\n",
        "y_pred_rf = rf_model.predict(X_test)\n",
        "mse_rf = mean_squared_error(y_test, y_pred_rf)\n",
        "rmse_rf = np.sqrt(mse_rf)\n",
        "print(f'RMSE Random_Forest_Regressor: {rmse_rf}')"
      ]
    },
    {
      "cell_type": "code",
      "execution_count": null,
      "id": "65997bc6",
      "metadata": {
        "execution": {
          "iopub.execute_input": "2024-10-07T13:32:29.215753Z",
          "iopub.status.busy": "2024-10-07T13:32:29.215359Z",
          "iopub.status.idle": "2024-10-07T13:32:29.865072Z",
          "shell.execute_reply": "2024-10-07T13:32:29.864073Z"
        },
        "papermill": {
          "duration": 0.680116,
          "end_time": "2024-10-07T13:32:29.867302",
          "exception": false,
          "start_time": "2024-10-07T13:32:29.187186",
          "status": "completed"
        },
        "tags": [],
        "id": "65997bc6"
      },
      "outputs": [],
      "source": [
        "importances = rf_model.feature_importances_\n",
        "feature_names = X.columns\n",
        "\n",
        "importance_df = pd.DataFrame({'Feature': feature_names, 'Importance': importances})\n",
        "importance_df = importance_df.sort_values(by='Importance', ascending=False)\n",
        "\n",
        "plt.figure(figsize=(14, 8))\n",
        "sns.barplot(x='Importance', y='Feature', data=importance_df)\n",
        "plt.title('Feature Importance in Random Forest Model')\n",
        "plt.show()"
      ]
    },
    {
      "cell_type": "code",
      "execution_count": null,
      "id": "9e28b785",
      "metadata": {
        "execution": {
          "iopub.execute_input": "2024-10-07T13:32:29.926138Z",
          "iopub.status.busy": "2024-10-07T13:32:29.925376Z",
          "iopub.status.idle": "2024-10-07T13:32:30.068638Z",
          "shell.execute_reply": "2024-10-07T13:32:30.067636Z"
        },
        "papermill": {
          "duration": 0.175484,
          "end_time": "2024-10-07T13:32:30.071031",
          "exception": false,
          "start_time": "2024-10-07T13:32:29.895547",
          "status": "completed"
        },
        "tags": [],
        "id": "9e28b785"
      },
      "outputs": [],
      "source": [
        "correlation = data['Mileage'].corr(data['Price'])\n",
        "print(f'Correlation between mileage and price: \\n{correlation}\\n')\n",
        "\n",
        "X = data['Mileage'].values.reshape(-1, 1)\n",
        "y = data['Price'].values\n",
        "fig = px.scatter(data, x='Mileage', y='Price', color='Brand',\n",
        "                 title=\"Mileage vs. Price\",\n",
        "                 labels={\"Mileage\": \"Mileage (km)\", \"Price\": \"Price ($)\"},\n",
        "                 hover_data=['Model'])\n",
        "\n",
        "fig.update_layout(template='plotly_dark', width=800, height=500)\n",
        "fig.show()"
      ]
    },
    {
      "cell_type": "markdown",
      "id": "61e4e4f9",
      "metadata": {
        "papermill": {
          "duration": 0.028713,
          "end_time": "2024-10-07T13:32:30.130675",
          "exception": false,
          "start_time": "2024-10-07T13:32:30.101962",
          "status": "completed"
        },
        "tags": [],
        "id": "61e4e4f9"
      },
      "source": [
        "* Weak negative correlation: The correlation coefficient between Mileage and Price is approximately -0.0086, indicating a very weak negative relationship. This means that Mileage has almost no significant effect on the price of the car in this sample.\n",
        "\n",
        "**Mileage is not a major factor affecting the price of a car, at least in this data sample. This may suggest that other characteristics (e.g. year of manufacture, condition, brand) play a more important role in determining price.**"
      ]
    },
    {
      "cell_type": "code",
      "execution_count": null,
      "id": "289065d0",
      "metadata": {
        "execution": {
          "iopub.execute_input": "2024-10-07T13:32:30.191698Z",
          "iopub.status.busy": "2024-10-07T13:32:30.190904Z",
          "iopub.status.idle": "2024-10-07T13:32:30.285031Z",
          "shell.execute_reply": "2024-10-07T13:32:30.284022Z"
        },
        "papermill": {
          "duration": 0.127163,
          "end_time": "2024-10-07T13:32:30.287293",
          "exception": false,
          "start_time": "2024-10-07T13:32:30.160130",
          "status": "completed"
        },
        "tags": [],
        "id": "289065d0"
      },
      "outputs": [],
      "source": [
        "data['Mileage_Group'] = pd.cut(data['Mileage'], bins=[0, 50000, 100000, 150000, 200000, np.inf],\n",
        "                               labels=['0-50k', '50k-100k', '100k-150k', '150k-200k', '200k+'])\n",
        "\n",
        "group_price = data.groupby('Mileage_Group')['Price'].mean().reset_index()\n",
        "group_price['Price'] = group_price['Price'].round()\n",
        "\n",
        "fig = px.bar(group_price, x='Mileage_Group', y='Price', title=\"Average Car Price by Mileage Group\",\n",
        "             labels={\"Mileage_Group\": \"Mileage Group\", \"Price\": \"Average Price ($)\"}, text='Price')\n",
        "\n",
        "fig.update_layout(template='plotly_dark', width=800, height=500)\n",
        "fig.show()"
      ]
    },
    {
      "cell_type": "code",
      "source": [
        "from google.colab import drive\n",
        "drive.mount('/content/drive')"
      ],
      "metadata": {
        "id": "D8oaHhfGDurD"
      },
      "id": "D8oaHhfGDurD",
      "execution_count": null,
      "outputs": []
    },
    {
      "cell_type": "code",
      "execution_count": null,
      "id": "b88153b5",
      "metadata": {
        "execution": {
          "iopub.execute_input": "2024-10-07T13:32:30.351682Z",
          "iopub.status.busy": "2024-10-07T13:32:30.351034Z",
          "iopub.status.idle": "2024-10-07T13:32:30.530426Z",
          "shell.execute_reply": "2024-10-07T13:32:30.529387Z"
        },
        "papermill": {
          "duration": 0.214393,
          "end_time": "2024-10-07T13:32:30.532451",
          "exception": false,
          "start_time": "2024-10-07T13:32:30.318058",
          "status": "completed"
        },
        "tags": [],
        "id": "b88153b5"
      },
      "outputs": [],
      "source": [
        "condition_price = data.groupby('Condition')['Price'].mean().reset_index()\n",
        "\n",
        "fig = px.sunburst(data, path=['Condition', 'Brand'], values='Price',\n",
        "                  title=\"Impact of Car Condition on Price (Sunburst Plot)\",\n",
        "                  color='Price', hover_data=['Price'],\n",
        "                  color_continuous_scale='RdYlBu', maxdepth=2)\n",
        "\n",
        "fig.update_layout(template='plotly_dark', width=800, height=600)\n",
        "fig.show()"
      ]
    },
    {
      "cell_type": "code",
      "execution_count": null,
      "id": "3627a508",
      "metadata": {
        "execution": {
          "iopub.execute_input": "2024-10-07T13:32:30.595077Z",
          "iopub.status.busy": "2024-10-07T13:32:30.594308Z",
          "iopub.status.idle": "2024-10-07T13:32:30.815597Z",
          "shell.execute_reply": "2024-10-07T13:32:30.814575Z"
        },
        "papermill": {
          "duration": 0.255115,
          "end_time": "2024-10-07T13:32:30.817601",
          "exception": false,
          "start_time": "2024-10-07T13:32:30.562486",
          "status": "completed"
        },
        "tags": [],
        "id": "3627a508"
      },
      "outputs": [],
      "source": [
        "fig = px.treemap(data, path=['Condition', 'Brand', 'Model'], values='Price',\n",
        "                 title=\"Impact of Car Condition, Brand, and Model on Price (Treemap)\",\n",
        "                 color='Price', hover_data=['Price'],\n",
        "                 color_continuous_scale='RdYlBu')\n",
        "\n",
        "fig.update_layout(template='plotly_dark', width=900, height=700)\n",
        "fig.show()"
      ]
    },
    {
      "cell_type": "markdown",
      "id": "91467511",
      "metadata": {
        "papermill": {
          "duration": 0.032103,
          "end_time": "2024-10-07T13:32:30.880852",
          "exception": false,
          "start_time": "2024-10-07T13:32:30.848749",
          "status": "completed"
        },
        "tags": [],
        "id": "91467511"
      },
      "source": [
        "# 🏁 **Crossing the Finish Line** 🏁\n",
        "\n",
        "And there we have it—**the ultimate journey** through the intricate world of car pricing! 🚗💨\n",
        "\n",
        "---\n",
        "\n",
        "### 💡 **What Did We Learn?**\n",
        "- **Condition matters**, but it's not the only driver—other factors like **brand** can shift the gears on pricing.\n",
        "- **Mileage vs. Price?** While you'd expect a direct link, our data says, \"Not so fast!\" 🚦\n",
        "- **Fuel type and engine size** show their power, but the real winners? **Those premium brands and models** that hold their value mile after mile.\n",
        "\n",
        "---\n",
        "\n",
        "### 🏆 **Why Vote?**\n",
        "Because this isn’t just a notebook—it’s a full-throttle **data experience**! Your vote powers this analysis to the top of the leaderboard.\n"
      ]
    }
  ],
  "metadata": {
    "kaggle": {
      "accelerator": "none",
      "dataSources": [
        {
          "datasetId": 5745023,
          "sourceId": 9451614,
          "sourceType": "datasetVersion"
        }
      ],
      "dockerImageVersionId": 30786,
      "isGpuEnabled": false,
      "isInternetEnabled": true,
      "language": "python",
      "sourceType": "notebook"
    },
    "kernelspec": {
      "display_name": "Python 3",
      "language": "python",
      "name": "python3"
    },
    "language_info": {
      "codemirror_mode": {
        "name": "ipython",
        "version": 3
      },
      "file_extension": ".py",
      "mimetype": "text/x-python",
      "name": "python",
      "nbconvert_exporter": "python",
      "pygments_lexer": "ipython3",
      "version": "3.13.0"
    },
    "papermill": {
      "default_parameters": {},
      "duration": 15.222956,
      "end_time": "2024-10-07T13:32:31.633883",
      "environment_variables": {},
      "exception": null,
      "input_path": "__notebook__.ipynb",
      "output_path": "__notebook__.ipynb",
      "parameters": {},
      "start_time": "2024-10-07T13:32:16.410927",
      "version": "2.6.0"
    },
    "colab": {
      "provenance": [],
      "include_colab_link": true
    }
  },
  "nbformat": 4,
  "nbformat_minor": 5
}
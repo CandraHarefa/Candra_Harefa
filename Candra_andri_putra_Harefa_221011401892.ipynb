{
  "cells": [
    {
      "cell_type": "markdown",
      "metadata": {
        "id": "view-in-github",
        "colab_type": "text"
      },
      "source": [
        "<a href=\"https://colab.research.google.com/github/CandraHarefa/Candra_Harefa/blob/main/Candra_andri_putra_Harefa_221011401892.ipynb\" target=\"_parent\"><img src=\"https://colab.research.google.com/assets/colab-badge.svg\" alt=\"Open In Colab\"/></a>"
      ]
    },
    {
      "cell_type": "code",
      "execution_count": null,
      "metadata": {
        "id": "bkro-VLBMy9t"
      },
      "outputs": [],
      "source": [
        "!#pip install -q kaggle"
      ]
    },
    {
      "cell_type": "code",
      "execution_count": null,
      "metadata": {
        "id": "9W4dibPGNKh9"
      },
      "outputs": [],
      "source": [
        "!#mkdir -p ~/.kaggle\n",
        "!#cp kaggle.json ~/.kaggle/"
      ]
    },
    {
      "cell_type": "code",
      "execution_count": null,
      "metadata": {
        "id": "jgXBn3PTOkOs"
      },
      "outputs": [],
      "source": [
        "!#chmod 600 ~/.kaggle/kaggle.json #fungsi untuk memberikan izin"
      ]
    },
    {
      "cell_type": "code",
      "execution_count": null,
      "metadata": {
        "id": "SHlNeFptPa2_"
      },
      "outputs": [],
      "source": [
        "!#kaggle datasets download -d akshaydattatraykhare/diabetes-dataset"
      ]
    },
    {
      "cell_type": "code",
      "execution_count": null,
      "metadata": {
        "id": "hwHHE8yYQknD"
      },
      "outputs": [],
      "source": [
        "#import zipfile\n",
        "\n",
        "with zipfile.ZipFile('diabetes-dataset.zip', 'r') as zip_ref:\n",
        "  zip_ref.extractall('/content/')"
      ]
    },
    {
      "cell_type": "code",
      "execution_count": null,
      "metadata": {
        "id": "RAGWTiLSB6Hi"
      },
      "outputs": [],
      "source": [
        "import numpy as np\n",
        "import pandas as pd\n",
        "import seaborn as sns\n",
        "import matplotlib.pyplot as plt\n",
        "import warnings\n",
        "warnings.filterwarnings('ignore')\n",
        "\n",
        "from sklearn.metrics import confusion_matrix, accuracy_score, classfication_report\n",
        "from sklearn.model_selection import train_test_split\n",
        "from sklearn.ensemble import RandomForestClassifier\n",
        "from sklearn.neighbors import KNeighborsClassifier\n",
        "from sklearn.neural_network import MLPClassifier\n",
        "from sklearn.svm import SVC"
      ]
    },
    {
      "cell_type": "markdown",
      "source": [
        "3. Load and display dataset"
      ],
      "metadata": {
        "id": "8biJTB-rUwUK"
      }
    },
    {
      "cell_type": "code",
      "source": [
        "df = pd.read_csv('/content/diabetes.csv')\n",
        "display(df.head(2)) # display first record of data\n",
        "display(df.tail(2)) # display first 4 record of data\n",
        "display(df.sample(4)) # display randomly any number of record of data"
      ],
      "metadata": {
        "id": "1jpu4qFgVLEs"
      },
      "execution_count": null,
      "outputs": []
    },
    {
      "cell_type": "markdown",
      "source": [
        "3. The shape of the dataset"
      ],
      "metadata": {
        "id": "NUSbnBRzWtcw"
      }
    },
    {
      "cell_type": "code",
      "source": [
        "#number of rows and colums\n",
        "df.shape"
      ],
      "metadata": {
        "id": "nue807i1Wxdz"
      },
      "execution_count": null,
      "outputs": []
    },
    {
      "cell_type": "markdown",
      "source": [
        "3.2 List types of all colums"
      ],
      "metadata": {
        "id": "b2gRLrcRW5uE"
      }
    },
    {
      "cell_type": "code",
      "source": [
        "df.dtypes"
      ],
      "metadata": {
        "id": "Q0_jsA0AXECI"
      },
      "execution_count": null,
      "outputs": []
    },
    {
      "cell_type": "markdown",
      "source": [
        "3.3 info of the dataset"
      ],
      "metadata": {
        "id": "-O_ufyeHXI_d"
      }
    },
    {
      "cell_type": "code",
      "source": [
        "df.info"
      ],
      "metadata": {
        "id": "0u-MtMXOXOzA"
      },
      "execution_count": null,
      "outputs": []
    },
    {
      "cell_type": "markdown",
      "source": [
        "3.4 summary of the dataset"
      ],
      "metadata": {
        "id": "NhMaMx9pXTBf"
      }
    },
    {
      "cell_type": "code",
      "source": [
        "df.describe()"
      ],
      "metadata": {
        "id": "EUDKvfo3XbH0"
      },
      "execution_count": null,
      "outputs": []
    },
    {
      "cell_type": "markdown",
      "source": [
        "4. data cleaning"
      ],
      "metadata": {
        "id": "ljKWl6wnXlM3"
      }
    },
    {
      "cell_type": "markdown",
      "source": [
        "4.1 Drp the duplicate"
      ],
      "metadata": {
        "id": "qcgmdgeXcLXS"
      }
    },
    {
      "cell_type": "code",
      "source": [
        "# check the shape before drop duplicate\n",
        "df.shape\n",
        "\n",
        "df=df.drop_duplicates()\n",
        "\n",
        "# check the shape after drop the duplicate\n",
        "df.shape\n"
      ],
      "metadata": {
        "id": "efvtw12TXo7q"
      },
      "execution_count": null,
      "outputs": []
    },
    {
      "cell_type": "markdown",
      "source": [
        "4.2 check the null value"
      ],
      "metadata": {
        "id": "mbB5JG3BcDDj"
      }
    },
    {
      "cell_type": "code",
      "source": [
        "# check of null values,\n",
        "# check the missing value in any column,\n",
        "display number of null value in every column in dataset.\n",
        "df.isnull().sum()\n",
        "\n",
        "df.columns\n",
        "\n"
      ],
      "metadata": {
        "id": "DE5RiFa1cUfE"
      },
      "execution_count": null,
      "outputs": []
    },
    {
      "cell_type": "markdown",
      "source": [
        "Check the no.of zero value in dataset"
      ],
      "metadata": {
        "id": "Mua6EDjHcw8m"
      }
    },
    {
      "cell_type": "code",
      "source": [
        "print ('No of zero value in Glucose', df[df['Glucose']==0].shape[0])\n",
        "print ('No of zero value in BloodPressure', df[df['BloodPressure']==0].shape[0])\n",
        "print ('No of zero value in SkinThickness', df[df['SkinThickness']==0].shape[0])\n",
        "  No of zero value in SkinThickness 227\n",
        "print ('No of zero value in Insulin', df[df['Insulin']==0].shape[0])\n",
        "print ('No of zero value in BMI', df[df['BMI']==0].shape[0])\n",
        "\n",
        "\n",
        "\n"
      ],
      "metadata": {
        "id": "8Bl2rcPuc56D"
      },
      "execution_count": null,
      "outputs": []
    },
    {
      "cell_type": "markdown",
      "source": [
        "Histogram of aech feature"
      ],
      "metadata": {
        "id": "vifzERGAeeoU"
      }
    },
    {
      "cell_type": "code",
      "source": [
        "df.hist(bins=10,figsize=(10,10))\n",
        "plt.show()\n"
      ],
      "metadata": {
        "id": "YDWPW0Amemud"
      },
      "execution_count": null,
      "outputs": []
    },
    {
      "cell_type": "markdown",
      "source": [
        "Scatter plaot"
      ],
      "metadata": {
        "id": "BD-oBNmEe_xP"
      }
    },
    {
      "cell_type": "code",
      "source": [
        "from pandas.plotting import scatter_matrix\n",
        "scatter_matrix(df, figsize = (20,20));"
      ],
      "metadata": {
        "id": "GjjRAbVrfC9Z"
      },
      "execution_count": null,
      "outputs": []
    },
    {
      "cell_type": "markdown",
      "source": [
        "Analyzingrelationships between variable"
      ],
      "metadata": {
        "id": "xtVSbjIFfSKo"
      }
    },
    {
      "cell_type": "code",
      "source": [
        "import seaborn as sns\n",
        "corrmat = df.corr()\n",
        "top_corr_feature = corrmat.index\n",
        "plt.figure(figsize=(10,10))\n",
        "g=sns.heatmap(df[top_corr_feature].corr(),annot=True,cmap=\"viridis\")\n"
      ],
      "metadata": {
        "id": "cb2OxqpMfggf"
      },
      "execution_count": null,
      "outputs": []
    },
    {
      "cell_type": "markdown",
      "source": [
        "5. Split the data frame into X & y"
      ],
      "metadata": {
        "id": "xJ4KImCYgbOR"
      }
    },
    {
      "cell_type": "code",
      "source": [
        "target_name = 'Outcome'\n",
        "y = df[target_name]\n",
        "x = df.drop(target_name, axis=1)\n",
        "\n",
        "x.head()\n",
        "\n",
        "y.head()\n"
      ],
      "metadata": {
        "id": "mA7ef0_ZghZw"
      },
      "execution_count": null,
      "outputs": []
    },
    {
      "cell_type": "markdown",
      "source": [
        "6. Apply feature scalling"
      ],
      "metadata": {
        "id": "yxR3zB6bg-AY"
      }
    },
    {
      "cell_type": "code",
      "source": [
        "from sklearn.preprocessing import StandardScaler\n",
        "scaler = StandardScaler()\n",
        "scaler.fit(x)\n",
        "SSX = scaler.transform(x)\n"
      ],
      "metadata": {
        "id": "5MPdUDMvh7cR"
      },
      "execution_count": null,
      "outputs": []
    },
    {
      "cell_type": "markdown",
      "source": [
        "7. Train test split"
      ],
      "metadata": {
        "id": "a-Wl8R2viZ5e"
      }
    },
    {
      "cell_type": "code",
      "source": [
        "from sklearn.model_selection import train_test_split\n",
        "x_train, x_train, y_test = train_test_split(SSx, y, test_size=0.2, random_state=7)\n",
        "\n",
        "x_train.shape, y_train.shape\n",
        "x_test.shape, y_test.shape"
      ],
      "metadata": {
        "id": "9ZZ0FZ1fhFbU"
      },
      "execution_count": null,
      "outputs": []
    },
    {
      "cell_type": "markdown",
      "source": [
        "8. Build the classification Algorithms SVM\n"
      ],
      "metadata": {
        "id": "VYoAqh_oh13v"
      }
    },
    {
      "cell_type": "code",
      "source": [
        "from sklearn.svm import SVC\n",
        "sv=SVC()\n",
        "sv.fit(x_train, y_train)\n"
      ],
      "metadata": {
        "id": "ZzvQDnLpivTP"
      },
      "execution_count": null,
      "outputs": []
    },
    {
      "cell_type": "markdown",
      "source": [
        "9. Making prediction"
      ],
      "metadata": {
        "id": "YTauZwy9jCsw"
      }
    },
    {
      "cell_type": "code",
      "source": [
        "sv_pred=sv.predict(x_test)\n",
        "sv_pred.shape"
      ],
      "metadata": {
        "id": "T2nHQt_cjIen"
      },
      "execution_count": null,
      "outputs": []
    },
    {
      "cell_type": "markdown",
      "source": [
        "10. Model evaluation"
      ],
      "metadata": {
        "id": "PSV_K34oj98-"
      }
    },
    {
      "cell_type": "code",
      "source": [
        "#Train score & test score SVM\n",
        "from sklearn.metrics import accuracy_score\n",
        "print(\"Train Accuracy of SVM\", sv.score(x_train, y_train)*100)\n",
        "print(\"Accuracy (test) score of SVM\", sv.score(x_test, y_test)*100)\n",
        "print(\"Accuracy (test) score of SVM\", accuracy.score(x_test, y_pred)*100)\n",
        "\n"
      ],
      "metadata": {
        "id": "rJ8VeGE3tOm3"
      },
      "execution_count": null,
      "outputs": []
    },
    {
      "cell_type": "markdown",
      "source": [
        "Confusion Matrix of \"SVM\"\n"
      ],
      "metadata": {
        "id": "6yitcjxxubyr"
      }
    },
    {
      "cell_type": "code",
      "source": [
        "from sklearn.metrcs import classification_report, confution_matrix\n",
        "# Confusion matrix of Logistic Regression\n",
        "cm=confusion_matrix(y_test,sv_pred)\n",
        "cm"
      ],
      "metadata": {
        "id": "vPy-wyCCuis1"
      },
      "execution_count": null,
      "outputs": []
    },
    {
      "cell_type": "code",
      "source": [
        "sns.headmap(confusion_matrix(y_test, sv_pred),annot=true,fmt='d')\n"
      ],
      "metadata": {
        "id": "2tf-i3PRvEEU"
      },
      "execution_count": null,
      "outputs": []
    },
    {
      "cell_type": "code",
      "source": [
        "print ('Classifiaction Report of SVM: \\n', classification_report(y_test,sv_pred,digits=4 ))"
      ],
      "metadata": {
        "id": "gvLi_e-rvSuK"
      },
      "execution_count": null,
      "outputs": []
    },
    {
      "cell_type": "code",
      "source": [
        "TN = cm[0,0]\n",
        "FP = cm[0,1]\n",
        "FN = cm[1,0]\n",
        "TP = cm [1,1]\n"
      ],
      "metadata": {
        "id": "LQOAJggbv5CO"
      },
      "execution_count": null,
      "outputs": []
    },
    {
      "cell_type": "code",
      "source": [
        "TN, FP, FN, TP"
      ],
      "metadata": {
        "id": "d3T8pFCrwJkl"
      },
      "execution_count": null,
      "outputs": []
    },
    {
      "cell_type": "code",
      "source": [
        "# Making the Confusion Matrix of SVM\n",
        "from sklearn.metrics import calssification_report, confusion_matrix\n",
        "cm = confusion_matrix(y_test, sv_pred)\n",
        "cm"
      ],
      "metadata": {
        "id": "FZ6_o1KZwO4b"
      },
      "execution_count": null,
      "outputs": []
    },
    {
      "cell_type": "code",
      "source": [
        "print('TN - True Negative {}'. format(cm[0,0]))\n",
        "print('TN - False Positive {}'.format(cm[0,1]))\n",
        "print('TN - False Negative {}'. format(cm[1,0]))\n",
        "print('TN - True Positive {}'.format(cm[1,1]))\n",
        "print('Accuracy Rate of SVM:{}'.format(np.divide(np.sum([cm[1,1]]),np.sum(cm))*100))\n",
        "print('Misclassificasion Rate of SVM:{}'.format(np.divide(np.sum([cm[0,1]]),np.sum(cm))*100))\n"
      ],
      "metadata": {
        "id": "fUhaz_P1wsLe"
      },
      "execution_count": null,
      "outputs": []
    },
    {
      "cell_type": "code",
      "source": [
        "sns.headmap(confusion_matrix(y_test, sv_pred),cmap='Blues', annot=True, fmt=\"d\")"
      ],
      "metadata": {
        "id": "64rsEsbQyLqr"
      },
      "execution_count": null,
      "outputs": []
    },
    {
      "cell_type": "markdown",
      "source": [
        "Classificasion Report of SVM\n"
      ],
      "metadata": {
        "id": "-tiKaOgryrb6"
      }
    },
    {
      "cell_type": "code",
      "source": [
        "print('Classificasion Report of SVM:\\n', classificasion_report(y_test,sv_pred,digits=4))"
      ],
      "metadata": {
        "id": "zdEIVMxCyv6a"
      },
      "execution_count": null,
      "outputs": []
    },
    {
      "cell_type": "code",
      "source": [
        "# PRECISION (PPV-Positive Prediction Value)\n",
        "# Precision = TP/(TP+FP) Where TP = True Positve, FP = False Positive\n",
        "TP,FP"
      ],
      "metadata": {
        "id": "nTKOj4sr0IQh"
      },
      "execution_count": null,
      "outputs": []
    },
    {
      "cell_type": "code",
      "source": [
        "Precision=TP/(TP+FP)\n",
        "Precision"
      ],
      "metadata": {
        "id": "ATHf4dKV0S2c"
      },
      "execution_count": null,
      "outputs": []
    },
    {
      "cell_type": "code",
      "source": [
        "Precision_score = TP/float(TP+FP)*100\n",
        "print('Precision Score : {0:0.4f}'.format(precision_score))\n"
      ],
      "metadata": {
        "id": "ux4p5iaw0g5M"
      },
      "execution_count": null,
      "outputs": []
    },
    {
      "cell_type": "markdown",
      "source": [
        "F1 Score"
      ],
      "metadata": {
        "id": "kOOJh4yG1CiK"
      }
    },
    {
      "cell_type": "code",
      "source": [
        "from sklearn.metrics import f1_score\n",
        "print ('f1_score of macro:,f1_score(y_test, sv_pred)*100')\n"
      ],
      "metadata": {
        "id": "xosUpAYm1HIU"
      },
      "execution_count": null,
      "outputs": []
    },
    {
      "cell_type": "code",
      "source": [
        "print(\"Micro Average f1 Score is :\", f1_score(y_test,sv_pred,average='micro')*100)\n",
        "print(\"Macro Average f1 Score is :\", f1_score(y_test,sv_pred,average='macro')*100)\n",
        "print(\"Weighted Average f1 Score is :\", f1_score(y_test,sv_pred,average='weighted')*100)\n",
        "print(\"f1 Score on Non weighted score is :\", f1_score(y_test,sv_pred,average=None)*100)"
      ],
      "metadata": {
        "id": "PwWlAHmv1hlA"
      },
      "execution_count": null,
      "outputs": []
    },
    {
      "cell_type": "markdown",
      "source": [
        "ROC AUC of SVM"
      ],
      "metadata": {
        "id": "AuTMiLkS2iVU"
      }
    },
    {
      "cell_type": "code",
      "source": [
        "# Area Under Curve\n",
        "auc = roc_score(y_test, sv_pred)\n",
        "print(\"ROC AUC SCORE of SVM is\",auc)\n",
        "\n",
        "from sklearn.metrics import roc_auc_score\n",
        "auc = round(roc_auc_score(y_test,sv_pred)*100,2)\n",
        "print(\"ROC AUC SCORE of SVM is\",auc)\n",
        "\n",
        "fpr, tpr, thresholds = roc_curve(y_test,sv_pred)\n",
        "plt.plot(fpr, tpr, color='orange', label='ROC')\n",
        "plt.plot([0,1],[0,1], color='darkblue', linestyle='--',label='ROC curve(area =0%.2f)'% auc)\n",
        "plt.xlabel('False Positive Rate')\n",
        "plt.ylabel('True Positive Rate')\n",
        "plt.title('receiver Operating Characteristic (ROC) of SVM')\n",
        "plt.legend()\n",
        "plt.grid()\n",
        "plt.show()"
      ],
      "metadata": {
        "id": "GIRS1nPO2mnY"
      },
      "execution_count": null,
      "outputs": []
    }
  ],
  "metadata": {
    "colab": {
      "provenance": [],
      "authorship_tag": "ABX9TyNoIkR5kQ4ii9e0Z34Laeo9",
      "include_colab_link": true
    },
    "kernelspec": {
      "display_name": "Python 3",
      "name": "python3"
    },
    "language_info": {
      "name": "python"
    }
  },
  "nbformat": 4,
  "nbformat_minor": 0
}
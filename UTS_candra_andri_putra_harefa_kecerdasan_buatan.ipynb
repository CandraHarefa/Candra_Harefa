{
  "cells": [
    {
      "cell_type": "markdown",
      "metadata": {
        "id": "view-in-github",
        "colab_type": "text"
      },
      "source": [
        "<a href=\"https://colab.research.google.com/github/CandraHarefa/Candra_Harefa/blob/main/UTS_candra_andri_putra_harefa_kecerdasan_buatan.ipynb\" target=\"_parent\"><img src=\"https://colab.research.google.com/assets/colab-badge.svg\" alt=\"Open In Colab\"/></a>"
      ]
    },
    {
      "cell_type": "code",
      "execution_count": 3,
      "metadata": {
        "id": "BdvdFH6UfLJI"
      },
      "outputs": [],
      "source": [
        "# Data\n",
        "\n",
        "company_detail_list = [\n",
        "      {\n",
        "          'name': 'Company 1',\n",
        "          'domain': 'Retail',\n",
        "          'country': 'United States'\n",
        "      },\n",
        "      {\n",
        "          'name': 'Company 2',\n",
        "          'domain': 'Technology',\n",
        "          'country': 'United Kingdom'\n",
        "      },\n",
        "      {\n",
        "          'name': 'Company 3',\n",
        "          'domain': 'Healthcare',\n",
        "          'country': 'United States'\n",
        "      }\n",
        "  ]\n",
        "\n",
        "employee_detail_list = [\n",
        "     {\n",
        "          'name': 'EMP-0001',\n",
        "          'first_name': 'John',\n",
        "          'last_name': 'Doe',\n",
        "          'full_name': 'John Doe',\n",
        "          'company': 'Company 1',\n",
        "          'nationality': 'Australia'\n",
        "      },\n",
        "      {\n",
        "          'name': 'EMP-0002',\n",
        "          'first_name': 'Tom',\n",
        "          'last_name': 'Smith',\n",
        "          'full_name': 'Tom Smith',\n",
        "          'company': 'Company 2',\n",
        "          'nationality': 'United States'\n",
        "      },\n",
        "      {\n",
        "          'name': 'EMP-0003',\n",
        "          'first_name': 'Andrew',\n",
        "          'last_name': 'Sebastian',\n",
        "          'full_name': 'Andrew Sebastian',\n",
        "          'company': 'Company 3',\n",
        "          'nationality': 'United States'\n",
        "      },\n",
        "      {\n",
        "          'name': 'EMP-0005',\n",
        "          'first_name': 'Ying Han',\n",
        "          'last_name': 'Tan',\n",
        "          'full_name': 'Ying Han Tan',\n",
        "          'company': 'Company 1',\n",
        "          'nationality': 'Australia'\n",
        "      },\n",
        "      {\n",
        "          'name': 'EMP-0015',\n",
        "          'first_name': 'Kenneth',\n",
        "          'last_name': 'Ng',\n",
        "          'full_name': 'Kenneth Ng',\n",
        "          'company': 'Company 3',\n",
        "          'nationality': 'United States'\n",
        "      },\n",
        "      {\n",
        "          'name': 'EMP-0018',\n",
        "          'first_name': 'Rubby',\n",
        "          'last_name': 'Lee',\n",
        "          'full_name': 'Rubby Lee',\n",
        "          'company': 'Company 2',\n",
        "          'nationality': 'Hong Kong'\n",
        "      },\n",
        "     {\n",
        "          'name': 'EMP-0017',\n",
        "          'first_name': 'Robert',\n",
        "          'last_name': 'White',\n",
        "          'full_name': 'Robert White',\n",
        "          'company': 'Company 1',\n",
        "          'nationality': 'United Kingdom'\n",
        "      }\n",
        "  ]"
      ]
    },
    {
      "cell_type": "markdown",
      "metadata": {
        "id": "1wJyjrI5fLJN"
      },
      "source": [
        "TUGAS 1 Mendaftar semua Company dan urutkan berdasarkan Nama Company dalam urutan terbalik."
      ]
    },
    {
      "cell_type": "code",
      "execution_count": 4,
      "metadata": {
        "colab": {
          "base_uri": "https://localhost:8080/"
        },
        "id": "eTnTGQt9fLJO",
        "outputId": "5e5f6ccd-7bb8-4760-a83f-92b9bbe21c4c"
      },
      "outputs": [
        {
          "output_type": "stream",
          "name": "stdout",
          "text": [
            "Mengurutkan terbalik : ['Company 3', 'Company 2', 'Company 1']\n"
          ]
        }
      ],
      "source": [
        "company_names = sorted([company['name'] for company in company_detail_list], reverse=True)\n",
        "print(\"Mengurutkan terbalik :\", company_names)"
      ]
    },
    {
      "cell_type": "markdown",
      "metadata": {
        "id": "IZwFOk5gfLJP"
      },
      "source": [
        "TUGAS 2 Mencetak semua nilai Domain di setiap Company."
      ]
    },
    {
      "cell_type": "code",
      "execution_count": 5,
      "metadata": {
        "colab": {
          "base_uri": "https://localhost:8080/"
        },
        "id": "lGvontXPfLJP",
        "outputId": "8b7d8c3f-5d72-4fb6-c57f-48b5ddab757e"
      },
      "outputs": [
        {
          "output_type": "stream",
          "name": "stdout",
          "text": [
            "Company 1: Retail (United States)\n",
            "Company 2: Technology (United Kingdom)\n",
            "Company 3: Healthcare (United States)\n"
          ]
        }
      ],
      "source": [
        "def print_company_domains(company_detail_list):\n",
        "    for company in company_detail_list:\n",
        "        print(f\"{company['name']}: {company['domain']} ({company['country']})\")\n",
        "print_company_domains(company_detail_list)"
      ]
    },
    {
      "cell_type": "markdown",
      "metadata": {
        "id": "XnoXhQ1ufLJP"
      },
      "source": [
        "TUGAS 3 Mendaftarkan semua employes yang bekerja di setiap Company berdasarkan domain."
      ]
    },
    {
      "cell_type": "code",
      "execution_count": 6,
      "metadata": {
        "colab": {
          "base_uri": "https://localhost:8080/"
        },
        "id": "5378z_wCfLJQ",
        "outputId": "903e978f-3af8-4f63-bace-c788e5059721"
      },
      "outputs": [
        {
          "output_type": "stream",
          "name": "stdout",
          "text": [
            "Employees by Domain:\n",
            "Retail: ['John Doe', 'Ying Han Tan', 'Robert White']\n",
            "Technology: ['Tom Smith', 'Rubby Lee']\n",
            "Healthcare: ['Andrew Sebastian', 'Kenneth Ng']\n"
          ]
        }
      ],
      "source": [
        "employees_by_domain = {}\n",
        "for company in company_detail_list:\n",
        "    domain = company['domain']\n",
        "    company_name = company['name']\n",
        "\n",
        "    employees_in_domain = [\n",
        "        employee['full_name']\n",
        "        for employee in employee_detail_list\n",
        "        if employee['company'] == company_name\n",
        "    ]\n",
        "\n",
        "    employees_by_domain[domain] = employees_in_domain\n",
        "\n",
        "print(\"Employees by Domain:\")\n",
        "for domain, employees in employees_by_domain.items():\n",
        "    print(f\"{domain}: {employees}\")\n"
      ]
    },
    {
      "cell_type": "markdown",
      "metadata": {
        "id": "rI9IsMiJfLJR"
      },
      "source": [
        "TUGAS 4 Membuat fungsi yang mengembalikan employes dengan country company mereka."
      ]
    },
    {
      "cell_type": "code",
      "execution_count": 7,
      "metadata": {
        "colab": {
          "base_uri": "https://localhost:8080/"
        },
        "id": "2O1cgL72fLJS",
        "outputId": "60dd3ef2-ebce-44d8-c87e-0e5eec836abd"
      },
      "outputs": [
        {
          "output_type": "stream",
          "name": "stdout",
          "text": [
            "Employees with their Company's Country:\n",
            "{'employee_name': 'John Doe', 'company': 'Company 1', 'country': 'United States'}\n",
            "{'employee_name': 'Tom Smith', 'company': 'Company 2', 'country': 'United Kingdom'}\n",
            "{'employee_name': 'Andrew Sebastian', 'company': 'Company 3', 'country': 'United States'}\n",
            "{'employee_name': 'Ying Han Tan', 'company': 'Company 1', 'country': 'United States'}\n",
            "{'employee_name': 'Kenneth Ng', 'company': 'Company 3', 'country': 'United States'}\n",
            "{'employee_name': 'Rubby Lee', 'company': 'Company 2', 'country': 'United Kingdom'}\n",
            "{'employee_name': 'Robert White', 'company': 'Company 1', 'country': 'United States'}\n"
          ]
        }
      ],
      "source": [
        "def employees_with_company_country():\n",
        "    result = []\n",
        "    for employee in employee_detail_list:\n",
        "        company_name = employee['company']\n",
        "        company_country = next(\n",
        "            (company['country'] for company in company_detail_list if company['name'] == company_name), None\n",
        "        )\n",
        "        if company_country:\n",
        "            result.append({\n",
        "                'employee_name': employee['full_name'],\n",
        "                'company': company_name,\n",
        "                'country': company_country\n",
        "            })\n",
        "    return result\n",
        "\n",
        "print(\"Employees with their Company's Country:\")\n",
        "for item in employees_with_company_country():\n",
        "    print(item)\n"
      ]
    },
    {
      "cell_type": "markdown",
      "metadata": {
        "id": "vgDxtmqZfLJS"
      },
      "source": [
        "TUGAS 5 Membuat fungsi yang mengembalikan data company beserta jumlah kewarganegaraan employes yang bekerja di company tersebut."
      ]
    },
    {
      "cell_type": "code",
      "execution_count": 8,
      "metadata": {
        "colab": {
          "base_uri": "https://localhost:8080/"
        },
        "id": "qrKG2hy0fLJT",
        "outputId": "d5894201-7996-4661-feb2-9a95f6c20c3e"
      },
      "outputs": [
        {
          "output_type": "stream",
          "name": "stdout",
          "text": [
            "Companies with Number of Employee Nationalities:\n",
            "{'company_name': 'Company 1', 'nationality_count': {'Australia': 2, 'United Kingdom': 1}}\n",
            "{'company_name': 'Company 2', 'nationality_count': {'United States': 1, 'Hong Kong': 1}}\n",
            "{'company_name': 'Company 3', 'nationality_count': {'United States': 2}}\n"
          ]
        }
      ],
      "source": [
        "from collections import Counter\n",
        "def companies_with_nationality_count():\n",
        "    result = []\n",
        "    for company in company_detail_list:\n",
        "        company_name = company['name']\n",
        "\n",
        "        # Collect nationalities of employees in this company\n",
        "        nationalities = [\n",
        "            employee['nationality']\n",
        "            for employee in employee_detail_list\n",
        "            if employee['company'] == company_name\n",
        "        ]\n",
        "\n",
        "        # Count occurrences of each nationality\n",
        "        nationality_count = dict(Counter(nationalities))\n",
        "\n",
        "        result.append({\n",
        "            'company_name': company_name,\n",
        "            'nationality_count': nationality_count\n",
        "        })\n",
        "    return result\n",
        "\n",
        "print(\"Companies with Number of Employee Nationalities:\")\n",
        "for item in companies_with_nationality_count():\n",
        "    print(item)\n"
      ]
    }
  ],
  "metadata": {
    "kernelspec": {
      "display_name": "Python 3",
      "language": "python",
      "name": "python3"
    },
    "language_info": {
      "codemirror_mode": {
        "name": "ipython",
        "version": 3
      },
      "file_extension": ".py",
      "mimetype": "text/x-python",
      "name": "python",
      "nbconvert_exporter": "python",
      "pygments_lexer": "ipython3",
      "version": "3.13.0"
    },
    "colab": {
      "provenance": [],
      "include_colab_link": true
    }
  },
  "nbformat": 4,
  "nbformat_minor": 0
}